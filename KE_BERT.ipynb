{
 "cells": [
  {
   "cell_type": "code",
   "execution_count": 2,
   "metadata": {},
   "outputs": [],
   "source": [
    "# !pip install transformers\n",
    "# !pip install seqeval\n",
    "# !pip install tensorboardx\n",
    "# !pip install simpletransformers"
   ]
  },
  {
   "cell_type": "code",
   "execution_count": 1,
   "metadata": {},
   "outputs": [],
   "source": [
    "import pandas as pd\n",
    "# from simpletransformers.classification import ClassificationModel\n",
    "from sklearn.metrics import f1_score, accuracy_score\n",
    "\n",
    "def f1_multiclass(labels, preds):\n",
    "    return f1_score(labels, preds, average='macro')"
   ]
  },
  {
   "cell_type": "code",
   "execution_count": 2,
   "metadata": {},
   "outputs": [],
   "source": [
    "# load data and format it for simpletransformers\n",
    "\n",
    "train_df = pd.read_json(\"data/KE/train.json\", orient=\"records\")\n",
    "val_df = pd.read_json(\"data/KE/validation.json\", orient=\"records\")\n",
    "test_df = pd.read_json(\"data/KE/test.json\", orient=\"records\")\n",
    "\n",
    "train_df = train_df.loc[:,[\"problem\",\"label\"]]\n",
    "train_df = train_df.rename(columns = {\"problem\":\"text\", \"label\":\"labels\"})\n",
    "val_df = val_df.loc[:,[\"problem\",\"label\"]]\n",
    "val_df = val_df.rename(columns = {\"problem\":\"text\", \"label\":\"labels\"})\n",
    "test_df = test_df.loc[:,[\"problem\",\"label\"]]\n",
    "test_df = test_df.rename(columns = {\"problem\":\"text\", \"label\":\"labels\"})"
   ]
  },
  {
   "cell_type": "code",
   "execution_count": 3,
   "metadata": {},
   "outputs": [
    {
     "data": {
      "text/html": [
       "<div>\n",
       "<style scoped>\n",
       "    .dataframe tbody tr th:only-of-type {\n",
       "        vertical-align: middle;\n",
       "    }\n",
       "\n",
       "    .dataframe tbody tr th {\n",
       "        vertical-align: top;\n",
       "    }\n",
       "\n",
       "    .dataframe thead th {\n",
       "        text-align: right;\n",
       "    }\n",
       "</style>\n",
       "<table border=\"1\" class=\"dataframe\">\n",
       "  <thead>\n",
       "    <tr style=\"text-align: right;\">\n",
       "      <th></th>\n",
       "      <th>text</th>\n",
       "      <th>labels</th>\n",
       "    </tr>\n",
       "  </thead>\n",
       "  <tbody>\n",
       "    <tr>\n",
       "      <th>0</th>\n",
       "      <td>enrich legacy photographs by predicting color ...</td>\n",
       "      <td>9</td>\n",
       "    </tr>\n",
       "    <tr>\n",
       "      <th>1</th>\n",
       "      <td>classification of compressed images</td>\n",
       "      <td>5</td>\n",
       "    </tr>\n",
       "    <tr>\n",
       "      <th>2</th>\n",
       "      <td>learn patterns in the data, allowing for accur...</td>\n",
       "      <td>7</td>\n",
       "    </tr>\n",
       "    <tr>\n",
       "      <th>3</th>\n",
       "      <td>time series forecasting</td>\n",
       "      <td>3</td>\n",
       "    </tr>\n",
       "    <tr>\n",
       "      <th>4</th>\n",
       "      <td>extracting useful representation for heart bio...</td>\n",
       "      <td>5</td>\n",
       "    </tr>\n",
       "    <tr>\n",
       "      <th>...</th>\n",
       "      <td>...</td>\n",
       "      <td>...</td>\n",
       "    </tr>\n",
       "    <tr>\n",
       "      <th>32129</th>\n",
       "      <td>both the pregnant women and the fetus</td>\n",
       "      <td>12</td>\n",
       "    </tr>\n",
       "    <tr>\n",
       "      <th>32130</th>\n",
       "      <td>determine the gender and age using left-hand r...</td>\n",
       "      <td>5</td>\n",
       "    </tr>\n",
       "    <tr>\n",
       "      <th>32131</th>\n",
       "      <td>each question type (expected answer characteri...</td>\n",
       "      <td>7</td>\n",
       "    </tr>\n",
       "    <tr>\n",
       "      <th>32132</th>\n",
       "      <td>dense feature vectors encoding geographic, tem...</td>\n",
       "      <td>2</td>\n",
       "    </tr>\n",
       "    <tr>\n",
       "      <th>32133</th>\n",
       "      <td>successfully classify synthetic and field seis...</td>\n",
       "      <td>6</td>\n",
       "    </tr>\n",
       "  </tbody>\n",
       "</table>\n",
       "<p>32134 rows × 2 columns</p>\n",
       "</div>"
      ],
      "text/plain": [
       "                                                    text  labels\n",
       "0      enrich legacy photographs by predicting color ...       9\n",
       "1                    classification of compressed images       5\n",
       "2      learn patterns in the data, allowing for accur...       7\n",
       "3                                time series forecasting       3\n",
       "4      extracting useful representation for heart bio...       5\n",
       "...                                                  ...     ...\n",
       "32129              both the pregnant women and the fetus      12\n",
       "32130  determine the gender and age using left-hand r...       5\n",
       "32131  each question type (expected answer characteri...       7\n",
       "32132  dense feature vectors encoding geographic, tem...       2\n",
       "32133  successfully classify synthetic and field seis...       6\n",
       "\n",
       "[32134 rows x 2 columns]"
      ]
     },
     "execution_count": 3,
     "metadata": {},
     "output_type": "execute_result"
    }
   ],
   "source": [
    "train_df"
   ]
  },
  {
   "cell_type": "code",
   "execution_count": 4,
   "metadata": {},
   "outputs": [
    {
     "data": {
      "text/plain": [
       "[0.7222746684648236,\n",
       " 1.9872603586889304,\n",
       " 1.430084557187361,\n",
       " 2.3697640117994103,\n",
       " 1.0722055388722056,\n",
       " 0.18073624117663603,\n",
       " 4.548336871903751,\n",
       " 0.4049653434152489,\n",
       " 1.3289495450785775,\n",
       " 1.8032547699214367,\n",
       " 1.4056867891513563,\n",
       " 6.531300813008131,\n",
       " 6.591589743589744,\n",
       " 2.793046501521078,\n",
       " 6.452610441767069]"
      ]
     },
     "execution_count": 4,
     "metadata": {},
     "output_type": "execute_result"
    }
   ],
   "source": [
    "# calculate class weights\n",
    "num_classes = 15\n",
    "weights_dict = {i: ((len(train_df)/num_classes)/train_df[\"labels\"].value_counts()[i]) for i in train_df[\"labels\"].value_counts().index}\n",
    "weights = [0]*num_classes\n",
    "for i in weights_dict:\n",
    "    weights[i] = weights_dict[i]\n",
    "weights"
   ]
  },
  {
   "cell_type": "code",
   "execution_count": null,
   "metadata": {},
   "outputs": [],
   "source": [
    "# define model parameters\n",
    "args = {\n",
    "    \"train_batch_size\": 32,\n",
    "    \"num_train_epochs\": 17,\n",
    "    \"learning_rate\": 1e-4,\n",
    "#     \"weight\": weights,\n",
    "    \"save_model_every_epoch\": False,\n",
    "    \"save_eval_checkpoints\": False,\n",
    "    \"overwrite_output_dir\": True,\n",
    "    \"reprocess_input_data\": False,\n",
    "    'evaluate_during_training': True,\n",
    "    \"eval_batch_size\": 32\n",
    "}\n",
    "\n",
    "# Create a ClassificationModel\n",
    "model = ClassificationModel('bert', 'allenai/scibert_scivocab_uncased', weight=weights, num_labels=num_classes, args=args)"
   ]
  },
  {
   "cell_type": "code",
   "execution_count": null,
   "metadata": {},
   "outputs": [],
   "source": [
    "# train model\n",
    "\n",
    "model.train_model(train_df, eval_df=val_df, f1=f1_multiclass, acc=accuracy_score)"
   ]
  },
  {
   "cell_type": "code",
   "execution_count": null,
   "metadata": {},
   "outputs": [],
   "source": [
    "#evaluate model\n",
    "result, model_outputs, wrong_predictions = model.eval_model(test_df, f1=f1_multiclass, acc=accuracy_score)\n",
    "print(result)"
   ]
  },
  {
   "cell_type": "code",
   "execution_count": null,
   "metadata": {},
   "outputs": [],
   "source": [
    "#get predictions\n",
    "preds, raw = model.predict(list(test_df[\"text\"]))"
   ]
  }
 ],
 "metadata": {
  "kernelspec": {
   "display_name": "Python 3",
   "language": "python",
   "name": "python3"
  },
  "language_info": {
   "codemirror_mode": {
    "name": "ipython",
    "version": 3
   },
   "file_extension": ".py",
   "mimetype": "text/x-python",
   "name": "python",
   "nbconvert_exporter": "python",
   "pygments_lexer": "ipython3",
   "version": "3.7.7"
  }
 },
 "nbformat": 4,
 "nbformat_minor": 4
}
