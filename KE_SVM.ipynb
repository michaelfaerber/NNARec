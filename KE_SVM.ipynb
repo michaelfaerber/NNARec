{
 "cells": [
  {
   "cell_type": "code",
   "execution_count": 8,
   "metadata": {},
   "outputs": [],
   "source": [
    "import pandas as pd\n",
    "from sklearn.feature_extraction.text import TfidfVectorizer\n",
    "from sklearn.multiclass import OneVsRestClassifier\n",
    "from sklearn.svm import LinearSVC\n",
    "from sklearn.metrics import f1_score, accuracy_score\n",
    "\n",
    "def f1_multiclass(labels, preds):\n",
    "    return f1_score(labels, preds, average='macro')"
   ]
  },
  {
   "cell_type": "code",
   "execution_count": 9,
   "metadata": {},
   "outputs": [],
   "source": [
    "# load data and format it for simpletransformers\n",
    "\n",
    "train_df = pd.read_json(\"data/KE/train.json\", orient=\"records\")\n",
    "val_df = pd.read_json(\"data/KE/validation.json\", orient=\"records\")\n",
    "test_df = pd.read_json(\"data/KE/test.json\", orient=\"records\")\n",
    "\n",
    "train_df = train_df.loc[:,[\"problem\",\"label\"]]\n",
    "train_df = train_df.rename(columns = {\"problem\":\"text\", \"label\":\"labels\"})\n",
    "val_df = val_df.loc[:,[\"problem\",\"label\"]]\n",
    "val_df = val_df.rename(columns = {\"problem\":\"text\", \"label\":\"labels\"})\n",
    "test_df = test_df.loc[:,[\"problem\",\"label\"]]\n",
    "test_df = test_df.rename(columns = {\"problem\":\"text\", \"label\":\"labels\"})"
   ]
  },
  {
   "cell_type": "code",
   "execution_count": 12,
   "metadata": {},
   "outputs": [
    {
     "name": "stdout",
     "output_type": "stream",
     "text": [
      "[LibLinear][LibLinear][LibLinear][LibLinear][LibLinear][LibLinear][LibLinear][LibLinear][LibLinear][LibLinear][LibLinear][LibLinear][LibLinear][LibLinear][LibLinear]"
     ]
    }
   ],
   "source": [
    "# TF-IDF parameters\n",
    "max_df = 0.4\n",
    "ngram_range = (1,3)\n",
    "# SVC parameters\n",
    "C = 2\n",
    "class_weight = \"balanced\"\n",
    "\n",
    "\n",
    "vectorizer = TfidfVectorizer(min_df=1, max_df=0.4, ngram_range=(1, 3),strip_accents='unicode', norm='l2')\n",
    "train_probs = vectorizer.fit_transform(train_df[\"text\"])\n",
    "\n",
    "clf = OneVsRestClassifier(LinearSVC(loss=\"hinge\", verbose=1, max_iter=20000, C=2, class_weight=\"balanced\")).fit(train_probs, train_df[\"labels\"])\n",
    "test_tfidf = vectorizer.transform(val_df[\"text\"])\n",
    "preds = clf.predict(test_tfidf)"
   ]
  },
  {
   "cell_type": "code",
   "execution_count": 13,
   "metadata": {},
   "outputs": [
    {
     "name": "stdout",
     "output_type": "stream",
     "text": [
      "\n",
      "acc: 0.598\n",
      "f1: 0.4937241737732784\n"
     ]
    }
   ],
   "source": [
    "print(\"acc:\",accuracy_score(val_df[\"labels\"], preds))\n",
    "print(\"f1:\",f1_multiclass(val_df[\"labels\"], preds))"
   ]
  },
  {
   "cell_type": "code",
   "execution_count": null,
   "metadata": {},
   "outputs": [],
   "source": []
  }
 ],
 "metadata": {
  "kernelspec": {
   "display_name": "Python 3",
   "language": "python",
   "name": "python3"
  },
  "language_info": {
   "codemirror_mode": {
    "name": "ipython",
    "version": 3
   },
   "file_extension": ".py",
   "mimetype": "text/x-python",
   "name": "python",
   "nbconvert_exporter": "python",
   "pygments_lexer": "ipython3",
   "version": "3.7.7"
  }
 },
 "nbformat": 4,
 "nbformat_minor": 4
}
